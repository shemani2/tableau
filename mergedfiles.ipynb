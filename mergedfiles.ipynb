{
 "cells": [
  {
   "cell_type": "code",
   "execution_count": 5,
   "metadata": {},
   "outputs": [],
   "source": [
    "import pandas as pd\n",
    "\n",
    "# Read in the three CSV files\n",
    "df201901 = pd.read_csv('JC-201901-citibike-tripdata.csv')\n",
    "df201906 = pd.read_csv('JC-201906-citibike-tripdata.csv')\n",
    "df201912 = pd.read_csv('JC-201912-citibike-tripdata.csv')\n",
    "\n",
    "# Concatenate the DataFrames into a single DataFrame\n",
    "merged_df = pd.concat([df201901, df201906, df201912])\n",
    "\n",
    "# Export the merged DataFrame to a new CSV file\n",
    "merged_df.to_csv('merged_citibike_data.csv', index=False)\n"
   ]
  },
  {
   "cell_type": "code",
   "execution_count": null,
   "metadata": {},
   "outputs": [],
   "source": []
  }
 ],
 "metadata": {
  "kernelspec": {
   "display_name": "dev",
   "language": "python",
   "name": "python3"
  },
  "language_info": {
   "codemirror_mode": {
    "name": "ipython",
    "version": 3
   },
   "file_extension": ".py",
   "mimetype": "text/x-python",
   "name": "python",
   "nbconvert_exporter": "python",
   "pygments_lexer": "ipython3",
   "version": "3.10.13"
  }
 },
 "nbformat": 4,
 "nbformat_minor": 2
}
