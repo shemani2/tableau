{
 "cells": [
  {
   "cell_type": "code",
   "execution_count": 3,
   "metadata": {},
   "outputs": [],
   "source": [
    "import pandas as pd\n",
    "\n",
    "# Read in the three CSV files\n",
    "df202101 = pd.read_csv('JC-202101-citibike-tripdata.csv')\n",
    "df202106 = pd.read_csv('JC-202106-citibike-tripdata.csv')\n",
    "df202112 = pd.read_csv('JC-202112-citibike-tripdata.csv')\n",
    "\n",
    "# Concatenate the DataFrames into a single DataFrame\n",
    "merged_df = pd.concat([df202101, df202106, df202112])\n",
    "\n",
    "# Export the merged DataFrame to a new CSV file\n",
    "merged_df.to_csv('merged_citibike_data.csv', index=False)\n"
   ]
  },
  {
   "cell_type": "code",
   "execution_count": null,
   "metadata": {},
   "outputs": [],
   "source": []
  }
 ],
 "metadata": {
  "kernelspec": {
   "display_name": "dev",
   "language": "python",
   "name": "python3"
  },
  "language_info": {
   "codemirror_mode": {
    "name": "ipython",
    "version": 3
   },
   "file_extension": ".py",
   "mimetype": "text/x-python",
   "name": "python",
   "nbconvert_exporter": "python",
   "pygments_lexer": "ipython3",
   "version": "3.10.13"
  }
 },
 "nbformat": 4,
 "nbformat_minor": 2
}
